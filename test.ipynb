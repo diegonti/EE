{
 "cells": [
  {
   "cell_type": "code",
   "execution_count": 7,
   "metadata": {},
   "outputs": [],
   "source": [
    "import numpy as np\n",
    "import sympy as sm\n",
    "import scipy as sp\n",
    "import matplotlib.pyplot as plt\n"
   ]
  },
  {
   "cell_type": "code",
   "execution_count": 41,
   "metadata": {},
   "outputs": [
    {
     "data": {
      "text/latex": [
       "$\\displaystyle 2.23$"
      ],
      "text/plain": [
       "2.23000000000000"
      ]
     },
     "execution_count": 41,
     "metadata": {},
     "output_type": "execute_result"
    }
   ],
   "source": [
    "W1,W2 = sm.symbols(\"W1,W2\")\n",
    "W = sm.symbols(\"W\")\n",
    "\n",
    "H = np.array([[1,2],[2,1]])\n",
    "S = np.array([[3,2],[2,1]])\n",
    "\n",
    "M = sm.Matrix(H-W*S)\n",
    "t1,t2 = sm.solve(M.det())\n",
    "t1+1.230"
   ]
  },
  {
   "cell_type": "code",
   "execution_count": 47,
   "metadata": {},
   "outputs": [],
   "source": [
    "\"\"\"\n",
    "Practice Session 2 -  Problem 5\n",
    "H2+ PES made from 1s STO-NG. Energies.\n",
    "Diego Ontiveros\n",
    "\"\"\"\n",
    "\n",
    "import numpy as np\n",
    "import matplotlib.pyplot as plt\n",
    "from scipy.special import erf\n",
    "import sympy as sm\n",
    "from time import time\n",
    "to = time()\n",
    "pi = np.pi\n",
    "\n",
    "W = sm.symbols(\"W\")\n",
    "\n",
    "coef = {\n",
    "    \"1g\": [[1],[0.270950]],\n",
    "    \"2g\": [[0.678914,0.430129],[0.151623,0.851819]],\n",
    "    \"3g\": [[0.444635,0.535328,0.154329],[0.109818,0.405771,2.22766]]\n",
    "}\n",
    "\n",
    "def NG_parser(NG):\n",
    "    \"\"\" \n",
    "    Parser for the number of gaussians.\n",
    "    Takes a general input (int, 1, or str, '1g') and returns the NG, d and a vectors.\n",
    "    \"\"\"\n",
    "    if type(NG) == str:\n",
    "        d,a = coef[NG.lower()]\n",
    "        NG = int(NG[0])\n",
    "    elif type(NG) == int:\n",
    "        d,a = coef[f\"{NG}g\"]\n",
    "    else: \n",
    "        raise SyntaxError(\"Insert a valid number of gaussians. Eg, \"\"2g\"\" or 2\")\n",
    "    return NG,d,a\n",
    "\n",
    "def Norm(a,b):\n",
    "    \"\"\"The normalization constant for a given integral <A|B>\"\"\"\n",
    "    return ((2*a/pi)*(2*b/pi))**(3/4)\n",
    "\n",
    "\n",
    "def Fo(t): \n",
    "    \"\"\"Auxiliary function\"\"\"\n",
    "    if t<1e-6: return 1-t/3\n",
    "    else: return 0.5*np.sqrt(pi/t)*erf(np.sqrt(t))\n",
    "\n",
    "\n",
    "# Individual gaussian integrals\n",
    "def _S(a,b,Ra,Rb): return Norm(a,b)*(pi/(a+b))**(3/2) * np.exp(-a*b/(a+b)*(Ra-Rb)**2)\n",
    "\n",
    "def _T(a,b,Ra,Rb): \n",
    "    fracc = a*b/(a+b)\n",
    "    return fracc*(3-2*fracc*(Ra-Rb)**2)*_S(a,b,Ra,Rb)\n",
    "\n",
    "def _Vp(a,b,Ra,Rb,Z,Rc):\n",
    "    Rp = (a*Ra + b*Rb)/(a+b)\n",
    "    t = (a+b)*(Rp-Rc)**2\n",
    "\n",
    "    return -2*pi/(a+b)*Z * np.exp(-a*b/(a+b)*(Ra-Rb)**2)*Fo(t) * Norm(a,b)\n",
    "\n",
    "def _V(a,b,Ra,Rb,Za,Zb,R):\n",
    "    return _Vp(a,b,Ra,Rb,Za,R[0]) + _Vp(a,b,Ra,Rb,Zb,R[1])\n",
    "\n",
    "# Matrix elements\n",
    "def matrix(N,NG,R,f,*params):\n",
    "    \n",
    "    NG,d,a = NG_parser(NG)\n",
    "    a = np.array(a) * 1.24**2\n",
    "\n",
    "    M = np.zeros(shape=(N,N))\n",
    "    for i in range(N):\n",
    "        for j in range(N):\n",
    "            # if i==j: Rij = 0\n",
    "            # else: Rij = R\n",
    "            Ra = R[i]\n",
    "            Rb = R[j]\n",
    "                            \n",
    "            for p in range(NG):\n",
    "                for q in range(NG):\n",
    "\n",
    "                    M[i,j] += d[p]*d[q]*f(a[p],a[q],Ra,Rb, *params)\n",
    "    return M\n",
    "\n",
    "def W1b(H,S): return (H[0,0] + H[0,1])/(1+S[0,1])\n",
    "def W2b(H,S): return (H[0,0] - H[0,1])/(1-S[0,1])\n",
    "\n"
   ]
  },
  {
   "cell_type": "code",
   "execution_count": 49,
   "metadata": {},
   "outputs": [
    {
     "name": "stdout",
     "output_type": "stream",
     "text": [
      "Overlap Matrix:\n",
      " [[1.00000143 0.46173095]\n",
      " [0.46173095 1.00000143]]\n",
      "Kinetic Matrix:\n",
      " [[0.76003294 0.09047595]\n",
      " [0.09047595 0.76003294]]\n",
      "Potential Matrix:\n",
      " [[-1.7136379  -0.71820707]\n",
      " [-0.71820707 -1.7136379 ]]\n",
      "Electronic Energies:\n",
      " -1.08182325126633 -0.605409083158012\n",
      "Nuclear Repulsion:\n",
      " 0.4991265285749938\n",
      "Total Energies:\n",
      " -0.582696722691336 -0.106282554583018\n",
      "\n",
      "-1.0818243066436168 -0.6054106870251756\n"
     ]
    }
   ],
   "source": [
    "# ao = 0.529177249\n",
    "# n = 100\n",
    "N = 2\n",
    "NG = 3\n",
    "R = 2.0035\n",
    "Ra = 0\n",
    "Rb = Ra+R\n",
    "config = np.array([Ra,Rb])\n",
    "\n",
    "Za,Zb = 1,1\n",
    "\n",
    "S = matrix(N,NG,config,_S)\n",
    "T = matrix(N,NG,config,_T)\n",
    "V = matrix(N,NG,config,_V,Za,Zb,config)\n",
    "H = T+V\n",
    "\n",
    "print(\"Overlap Matrix:\\n\",S)\n",
    "print(\"Kinetic Matrix:\\n\",T)\n",
    "print(\"Potential Matrix:\\n\",V)\n",
    "\n",
    "M = sm.Matrix(H-W*S)\n",
    "W1,W2 = sm.solve(M.det())\n",
    "print(\"Electronic Energies:\\n\",W1,W2)\n",
    "\n",
    "Vnn = 1/R\n",
    "print(\"Nuclear Repulsion:\\n\",Vnn)\n",
    "\n",
    "E1,E2 = W1+1/R, W2+1/R\n",
    "print(\"Total Energies:\\n\",E1,E2)\n",
    "\n",
    "print()\n",
    "print(W1b(H,S),W2b(H,S))"
   ]
  },
  {
   "cell_type": "code",
   "execution_count": 47,
   "metadata": {},
   "outputs": [
    {
     "data": {
      "text/plain": [
       "array([[14]])"
      ]
     },
     "execution_count": 47,
     "metadata": {},
     "output_type": "execute_result"
    }
   ],
   "source": [
    "t = np.array([1,2,3])\n",
    "a = np.array([1,2,3])\n",
    "t[:,None].T@a[:,None]"
   ]
  },
  {
   "cell_type": "code",
   "execution_count": 48,
   "metadata": {},
   "outputs": [
    {
     "data": {
      "text/plain": [
       "array([[1, 2, 3],\n",
       "       [2, 4, 6],\n",
       "       [3, 6, 9]])"
      ]
     },
     "execution_count": 48,
     "metadata": {},
     "output_type": "execute_result"
    }
   ],
   "source": [
    "np.outer(t,t)"
   ]
  },
  {
   "cell_type": "code",
   "execution_count": 43,
   "metadata": {},
   "outputs": [
    {
     "data": {
      "text/plain": [
       "array([[1],\n",
       "       [2],\n",
       "       [3]])"
      ]
     },
     "execution_count": 43,
     "metadata": {},
     "output_type": "execute_result"
    }
   ],
   "source": [
    "a[:,None]"
   ]
  },
  {
   "cell_type": "code",
   "execution_count": 49,
   "metadata": {},
   "outputs": [
    {
     "data": {
      "text/plain": [
       "array([1, 2, 3])"
      ]
     },
     "execution_count": 49,
     "metadata": {},
     "output_type": "execute_result"
    }
   ],
   "source": [
    "t"
   ]
  },
  {
   "cell_type": "code",
   "execution_count": 6,
   "metadata": {},
   "outputs": [
    {
     "data": {
      "text/plain": [
       "array([[ 1,  2,  3,  4],\n",
       "       [ 2,  4,  6,  8],\n",
       "       [ 3,  6,  9, 12],\n",
       "       [ 4,  8, 12, 16]])"
      ]
     },
     "execution_count": 6,
     "metadata": {},
     "output_type": "execute_result"
    }
   ],
   "source": [
    "b = np.array([[1,2],[3,4]])\n",
    "np.outer(b,b)"
   ]
  },
  {
   "cell_type": "code",
   "execution_count": 57,
   "metadata": {},
   "outputs": [
    {
     "data": {
      "text/plain": [
       "[1, 3]"
      ]
     },
     "execution_count": 57,
     "metadata": {},
     "output_type": "execute_result"
    }
   ],
   "source": [
    "sorted([3,1])"
   ]
  },
  {
   "cell_type": "code",
   "execution_count": 56,
   "metadata": {},
   "outputs": [
    {
     "name": "stdout",
     "output_type": "stream",
     "text": [
      "3\n",
      "5\n"
     ]
    }
   ],
   "source": [
    "def test(a,b,*params):\n",
    "    params = list(params)\n",
    "    params.append(b)\n",
    "    # params.append(3)\n",
    "    print(a+b)\n",
    "    print(sum(params))\n",
    "\n",
    "test(1,2,3)"
   ]
  },
  {
   "cell_type": "code",
   "execution_count": 57,
   "metadata": {},
   "outputs": [
    {
     "data": {
      "text/plain": [
       "2"
      ]
     },
     "execution_count": 57,
     "metadata": {},
     "output_type": "execute_result"
    }
   ],
   "source": [
    "np.dot(1,2)"
   ]
  },
  {
   "cell_type": "code",
   "execution_count": null,
   "metadata": {},
   "outputs": [],
   "source": []
  }
 ],
 "metadata": {
  "kernelspec": {
   "display_name": "Python 3",
   "language": "python",
   "name": "python3"
  },
  "language_info": {
   "codemirror_mode": {
    "name": "ipython",
    "version": 3
   },
   "file_extension": ".py",
   "mimetype": "text/x-python",
   "name": "python",
   "nbconvert_exporter": "python",
   "pygments_lexer": "ipython3",
   "version": "3.10.7"
  },
  "orig_nbformat": 4,
  "vscode": {
   "interpreter": {
    "hash": "98b7f83ea1f6816592be813d0a9257f9f3e2d15bf5c320e3b781c72faa584dce"
   }
  }
 },
 "nbformat": 4,
 "nbformat_minor": 2
}
