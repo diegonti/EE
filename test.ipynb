{
 "cells": [
  {
   "cell_type": "code",
   "execution_count": 1,
   "metadata": {},
   "outputs": [],
   "source": [
    "import numpy as np\n",
    "import sympy as sm\n",
    "import scipy as sp\n",
    "import matplotlib.pyplot as plt\n"
   ]
  },
  {
   "cell_type": "code",
   "execution_count": 41,
   "metadata": {},
   "outputs": [
    {
     "data": {
      "text/latex": [
       "$\\displaystyle 2.23$"
      ],
      "text/plain": [
       "2.23000000000000"
      ]
     },
     "execution_count": 41,
     "metadata": {},
     "output_type": "execute_result"
    }
   ],
   "source": [
    "W1,W2 = sm.symbols(\"W1,W2\")\n",
    "W = sm.symbols(\"W\")\n",
    "\n",
    "H = np.array([[1,2],[2,1]])\n",
    "S = np.array([[3,2],[2,1]])\n",
    "\n",
    "M = sm.Matrix(H-W*S)\n",
    "t1,t2 = sm.solve(M.det())\n",
    "t1+1.230"
   ]
  },
  {
   "cell_type": "code",
   "execution_count": 66,
   "metadata": {},
   "outputs": [],
   "source": [
    "\"\"\"\n",
    "Practice Session 2 -  Problem 5\n",
    "H2+ PES made from 1s STO-NG. Energies.\n",
    "Diego Ontiveros\n",
    "\"\"\"\n",
    "\n",
    "import numpy as np\n",
    "import matplotlib.pyplot as plt\n",
    "from scipy.integrate import simpson\n",
    "from scipy.special import erf\n",
    "import sympy as sm\n",
    "from time import time\n",
    "to = time()\n",
    "pi = np.pi\n",
    "\n",
    "W = sm.symbols(\"W\")\n",
    "\n",
    "coef = {\n",
    "    \"1g\": [[1],[0.270950]],\n",
    "    \"2g\": [[0.678914,0.430129],[0.151623,0.851819]],\n",
    "    \"3g\": [[0.444635,0.535328,0.154329],[0.109818,0.405771,2.22766]]\n",
    "}\n",
    "\n",
    "def NG_parser(NG):\n",
    "    if type(NG) == str:\n",
    "        d,a = coef[NG.lower()]\n",
    "        NG = int(NG[0])\n",
    "    elif type(NG) == int:\n",
    "        d,a = coef[f\"{NG}g\"]\n",
    "    else: \n",
    "        raise SyntaxError(\"Insert a valid number of gaussians. Eg, \"\"2g\"\" or 2\")\n",
    "    return NG,d,a\n",
    "\n",
    "\n",
    "def Fo(t): \n",
    "    \"\"\"Auxiliary function\"\"\"\n",
    "    return 0.5*np.sqrt(pi/t)*erf(np.sqrt(t))\n",
    "\n",
    "\n",
    "\n",
    "# Individual gaussian integrals\n",
    "def _S(a,b,R): return (pi/(a+b))**(3/2) * np.exp(-a*b/(a+b)*R**2)\n",
    "\n",
    "def _T(a,b,R): \n",
    "    fracc = a*b/(a+b)\n",
    "    return fracc*(3-2*fracc*R**2)*_S(a,b,R)\n",
    "\n",
    "def _Vp(a,b,R,Z,Rc):\n",
    "    Rp = (a*0 + b*R)/(a+b)\n",
    "    t = (a+b)*(Rp-Rc)**2\n",
    "    if t<1e-6: F = 1-t/3\n",
    "    else: F = Fo(t)\n",
    "    return -2*pi/(a+b)*Z * np.exp(-a*b/(a+b)*R**2)*F\n",
    "\n",
    "def _V(a,b,R,Za,Zb):\n",
    "    return _Vp(a,b,R,Za,0) + _Vp(a,b,R,Zb,R)\n",
    "\n",
    "# Matrix elements\n",
    "def matrix(N,NG,R,f,*params):\n",
    "    \n",
    "    NG,d,a = NG_parser(NG)\n",
    "    a = np.array(a) * 1.24**2\n",
    "\n",
    "    M = np.zeros(shape=(N,N))\n",
    "    for i in range(N):\n",
    "        for j in range(N):\n",
    "            if i==j: Rij = 0\n",
    "            else: Rij = R\n",
    "                            \n",
    "            for p in range(NG):\n",
    "                for q in range(NG):\n",
    "\n",
    "                    \n",
    "                    M[i,j] += d[p]*d[q]*f(a[p],a[q],Rij, *params)\n",
    "    return M\n",
    "\n",
    "# def W1(H,S): return (H[0,0] + H[0,1])/(1+S[0,1])\n",
    "# def W2(k,R): return (Haa(k,R) - Hab(k,R))/(1-Sab(k,R))\n",
    "\n"
   ]
  },
  {
   "cell_type": "code",
   "execution_count": 68,
   "metadata": {},
   "outputs": [
    {
     "name": "stdout",
     "output_type": "stream",
     "text": [
      "[[7.32117903 3.1821146 ]\n",
      " [3.1821146  7.32117903]]\n",
      "[[4.57514446 0.88394931]\n",
      " [0.88394931 4.57514446]]\n",
      "[[-15.08159738  -5.11216521]\n",
      " [ -5.11216521 -15.08159738]]\n",
      "-1.51682514996653\n",
      "-1.40286174358937\n",
      "-3.523258021803068\n"
     ]
    }
   ],
   "source": [
    "ao = 0.529177249\n",
    "n = 100\n",
    "N = 2\n",
    "NG = 1\n",
    "R = 2\n",
    "Za,Zb = 1,1\n",
    "\n",
    "S = matrix(N,NG,R,_S)\n",
    "T = matrix(N,NG,R,_T)\n",
    "V = matrix(N,NG,R,_V,Za,Zb)\n",
    "H = T+V\n",
    "\n",
    "print(S)\n",
    "print(T)\n",
    "print(V)\n",
    "\n",
    "M = sm.Matrix(H-W*S)\n",
    "W1,W2 = sm.solve(M.det())\n",
    "print(W1)\n",
    "print(W2)\n",
    "\n",
    "\n",
    "\n",
    "print((H[0,0]+H[0,1])/(1+S[0,1]))"
   ]
  },
  {
   "cell_type": "code",
   "execution_count": 45,
   "metadata": {},
   "outputs": [
    {
     "data": {
      "text/latex": [
       "$\\displaystyle \\left[\\begin{matrix}- 10.7420366778973 W - 14.5645302714617 & - 6.61002108839184 W - 7.5248518729259\\\\- 6.61002108839184 W - 7.5248518729259 & - 10.7420366778973 W - 14.5645302714617\\end{matrix}\\right]$"
      ],
      "text/plain": [
       "Matrix([\n",
       "[-10.7420366778973*W - 14.5645302714617,  -6.61002108839184*W - 7.5248518729259],\n",
       "[ -6.61002108839184*W - 7.5248518729259, -10.7420366778973*W - 14.5645302714617]])"
      ]
     },
     "execution_count": 45,
     "metadata": {},
     "output_type": "execute_result"
    }
   ],
   "source": [
    "M"
   ]
  },
  {
   "cell_type": "code",
   "execution_count": 58,
   "metadata": {},
   "outputs": [],
   "source": [
    "k = list(np.zeros((3,3)))"
   ]
  },
  {
   "cell_type": "code",
   "execution_count": 59,
   "metadata": {},
   "outputs": [
    {
     "data": {
      "text/plain": [
       "[array([0., 0., 0.]), array([0., 0., 0.]), array([0., 0., 0.])]"
      ]
     },
     "execution_count": 59,
     "metadata": {},
     "output_type": "execute_result"
    }
   ],
   "source": [
    "k"
   ]
  },
  {
   "cell_type": "code",
   "execution_count": null,
   "metadata": {},
   "outputs": [],
   "source": []
  }
 ],
 "metadata": {
  "kernelspec": {
   "display_name": "Python 3",
   "language": "python",
   "name": "python3"
  },
  "language_info": {
   "codemirror_mode": {
    "name": "ipython",
    "version": 3
   },
   "file_extension": ".py",
   "mimetype": "text/x-python",
   "name": "python",
   "nbconvert_exporter": "python",
   "pygments_lexer": "ipython3",
   "version": "3.10.7"
  },
  "orig_nbformat": 4,
  "vscode": {
   "interpreter": {
    "hash": "98b7f83ea1f6816592be813d0a9257f9f3e2d15bf5c320e3b781c72faa584dce"
   }
  }
 },
 "nbformat": 4,
 "nbformat_minor": 2
}
